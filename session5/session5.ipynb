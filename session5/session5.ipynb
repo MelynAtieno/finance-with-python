{
 "cells": [
  {
   "cell_type": "markdown",
   "id": "8ef3a945-03b6-4264-b12d-9699856fbe35",
   "metadata": {},
   "source": [
    "# Stock Price Prediction Using Machine Learning\n",
    "\n",
    "Use the Scikit-Learn library for ML. pip install scikit-learn"
   ]
  },
  {
   "cell_type": "code",
   "execution_count": null,
   "id": "bf57351a-54ed-4bc1-a15e-8760e4d2581c",
   "metadata": {},
   "outputs": [],
   "source": [
    "import numpy as np\n",
    "import pandas as pd\n",
    "import yfinance as yf\n",
    "import matplotlib.pyplot as plt\n",
    "from sklearn.linear_model import LinearRegression\n",
    "from sklearn.metrics import mean_squared_error, r2_score"
   ]
  },
  {
   "cell_type": "code",
   "execution_count": null,
   "id": "87855315-710f-4c62-a444-57629569ca37",
   "metadata": {},
   "outputs": [],
   "source": [
    "# Get historical data\n",
    "def get_stock_data(ticker: str, start_date: str, end_date: str) -> Any:\n",
    "    data = yf.download(ticker, start = start_date, end=end_date)\n",
    "    return data"
   ]
  },
  {
   "cell_type": "code",
   "execution_count": null,
   "id": "35feb5ac-abd4-494f-a117-e1bd05a29776",
   "metadata": {},
   "outputs": [],
   "source": [
    "# Feature engineering\n",
    "def engineer_features(data: pd.DataFrame) -> pd.DataFrame:\n",
    "    df = data.copy() # don't want to modify original data\n",
    "\n",
    "    #calculate daily return\n",
    "    df[\"Return\"] = df[\"Close\"].pct_change()\n",
    "\n",
    "    #calculate moving averages\n",
    "    df[\"SMA_5\"] = df[\"Close\"].rolling(window = 5).mean()\n",
    "    df[\"SMA_10\"] = df[\"close\"].rolling(window = 10).mean()\n",
    "\n",
    "    #calculate volatility: 5-day std. deviation from the closing prices\n",
    "    df[\"Volatility_5\"] = df[\"Close\"].rolling(window = 5).std()\n",
    "\n",
    "    #create lag features: CLosing prices form 1, 2, 3 days ago\n",
    "    for i in range(1,4):\n",
    "        df[f\"Close_lag(i)\"] = df[\"Close\"].shift(i)\n",
    "\n",
    "    #Target: predict tomorrow's closing price\n",
    "    df[\"Target\"] = df[\"Close\"].shift(-1)\n",
    "\n",
    "    print(\"\\nProcessed Data:\\n\")\n",
    "    print(df.head(15))\n",
    "\n",
    "    #Remove rows with missing values\n",
    "    df.dropna(inplace = True)\n",
    "\n",
    "    return df\n",
    "    "
   ]
  },
  {
   "cell_type": "code",
   "execution_count": null,
   "id": "ccabd24e-5239-47a5-9220-1517731caa76",
   "metadata": {},
   "outputs": [],
   "source": [
    "# Prepare data for modelling\n",
    "def prepare_data(df: pd.DataFrame) -> Tuple[pd.Datarame, pd.Series]:\n",
    "    features = [\n",
    "        \"Close_lag1\",\n",
    "        \"Close_lag2\",\n",
    "        \"Close_lag3\",\n",
    "        \"SMA_5\",\n",
    "        \"SMA_10\",\n",
    "        \"Volatility_5\",\n",
    "        \"Return\"\n",
    "    ]\n",
    "    x = df[features]\n",
    "    y = df[\"Target\"]\n",
    "    return x, y"
   ]
  },
  {
   "cell_type": "code",
   "execution_count": null,
   "id": "58bbb9ec-5c52-497e-bad5-845fbaa76898",
   "metadata": {},
   "outputs": [],
   "source": [
    "#Train-Test Split\n",
    "def train_test_split_ts(x: pd.DataFrame, y: pd.Series, split: float = 0.8) -> Tuple:\n",
    "    split_idx = int(len(x) = split)\n",
    "    return(\n",
    "        x.iloc[:split_idx],\n",
    "        x.iloc[split_idx:],\n",
    "        y.iloc[:split_idx],\n",
    "        y.iloc[split_idx:]\n",
    "    )\n",
    "    "
   ]
  },
  {
   "cell_type": "code",
   "execution_count": null,
   "id": "13bc0073-0066-4276-b6ad-b148c120b432",
   "metadata": {},
   "outputs": [],
   "source": [
    "# Model Training\n",
    "def train_model(x_train: pd.DataFrame, y_train: pd.Series, model_type: str \"lr\") -> Any:\n",
    "    if model_type == \"lr\":\n",
    "        model = LinearRegression()\n",
    "    else:\n",
    "        print(\"Model type not available\")\n",
    "    model.fit(x_train, y_train)\n",
    "    return model"
   ]
  },
  {
   "cell_type": "code",
   "execution_count": null,
   "id": "4a141feb-3edf-4e00-885b-da4d61390dda",
   "metadata": {},
   "outputs": [],
   "source": [
    "# Model Evaluation\n",
    "def evaluate_model(model: Any, x_test: pd.DataFrame, y_test: pd.Series) -> Dict(str, float):\n",
    "    y_pred = model.predict(x_test)\n",
    "    return{\n",
    "        \"mse\" : mean_squared_error(y_test, y_pred),\n",
    "        \"r2\" : r2_scorely_test, y_pred),\n",
    "        \"predictions\" : y_pred,\n",
    "    }        \n"
   ]
  },
  {
   "cell_type": "code",
   "execution_count": null,
   "id": "03244592-7a88-4ba3-a3e7-a4a5b65c9145",
   "metadata": {},
   "outputs": [],
   "source": [
    "# Plot Predictions\n",
    "def plot_predictions(y_test: pd.Series, y_pred: np.ndarray, ticker: str, model_type: str):\n",
    "    plt.figure(figsize=(12,6))\n",
    "    plt.plotly(y_test.index, y_test, label=\"Actual Price\", color = \"blue\")\n",
    "    plt.plotly(y_test.index, y_pred, label=\"Predicted Price\", color=\"orange\")\n",
    "    plt.title(f\"(ticker) Actual vs Prediction Prices ({model type})\")\n",
    "    plt.xlabel(\"Date\")\n",
    "    plt.ylabel(\"Price ($)\")\n",
    "    plt.legend()\n",
    "    plt.grid(True)\n",
    "    plt.xticks(rotation=45)\n",
    "    plt.tight_layout()\n",
    "    plt.show(_"
   ]
  },
  {
   "cell_type": "code",
   "execution_count": null,
   "id": "125f6861-2703-4ea3-b248-225d09e791f6",
   "metadata": {},
   "outputs": [],
   "source": [
    "# Predict next day price\n",
    "def predict_next_day(model: Any, latest_data: pd:Series) -> float:\n",
    "    features = [\n",
    "        \"Close_lag1\",\n",
    "        \"Close_lag2\",\n",
    "        \"Close_lag3\",\n",
    "        \"SMA_5\",\n",
    "        \"SMA_10\",\n",
    "        \"Volatility_5\",\n",
    "        \"Return\"\n",
    "    ]\n",
    "    prediction_features = np.array([latest_data[f] for f in features]).reshape(1, -1)\n",
    "    return model.predict(prediction_features)[0]"
   ]
  },
  {
   "cell_type": "code",
   "execution_count": null,
   "id": "58bd9cc7-6710-4ac5-a6db-cefc782966cd",
   "metadata": {},
   "outputs": [],
   "source": [
    "# Main FFunction\n",
    "\n",
    "def main():\n",
    "    start_date = \"2018-02-07\"\n",
    "    end_date = \"2025-02-07\"\n",
    "    stocks = [\"TSLA\", \"META\", \"MA\", \"V\", \"NFLX\", \"AMZN\", \"GOOGL\", \"JPM\", \"MSFT\"]\n",
    "    prediction_date = \"2025-02-18\"\n",
    "\n",
    "    results = {}\n",
    "\n",
    "    for ticker in stocks:\n",
    "        print(f\"\\nProcessing {ticker}...\")\n",
    "\n",
    "        # Get the stock data\n",
    "        data = get_stock_data(ticker, start_date, end_date)\n",
    "\n",
    "        # Create features from the data\n",
    "        processed_data = engineer_features(data)\n",
    "\n",
    "        # Prepare the data for our model\n",
    "        x, y = prepare_data(processed_data)\n",
    "\n",
    "        # Split the data into training and testing. Note: We are not shuffling data because order matters!\n",
    "        x_train, x_test, y_train, y_test = train_test_split_ts(x, y)\n",
    "\n",
    "        # Train models\n",
    "        models = {\n",
    "            \"Linear Regression\": train_model(x_train, y_train, model_type=\"lr\")\n",
    "        }\n",
    "\n",
    "        results[ticker] = {}\n",
    "        for model_name, model in models.items():\n",
    "            # Evaluate model on test data\n",
    "            eval_results = evaluate_model(model, x_test, y_test)\n",
    "            # Plot the \"Predictions vs Actual Prices\"\n",
    "            plot_predictions(y_test, eval_results[\"predictions\"], ticker, model_name)\n",
    "            # Predict next day price\n",
    "            next_day_price = predict_next_day(model, processed_data.iloc[-1])\n",
    "            results[ticker][model_name] = {\n",
    "                \"metrics\": eval_results,\n",
    "                \"prediction\" : next_day_price\n",
    "            }\n",
    "            print(\"\\nPrediction Summary for\", prediction_date)\n",
    "            print(\"-\" * 50)\n",
    "            for ticker, models in results.items():\n",
    "                print(f\"\\n{ticker}:\")\n",
    "                for model_name, result in models.items():\n",
    "                    print(f\" {model_ame}:\")\n",
    "                    print(f\" MSE: {result['metrics']['mse']:.2f}\")\n",
    "                    print(f\" R2: {Result['metrics']['r2']:.2f}\")\n",
    "                    print(f\" Predicted Price: ${result['prediction']:.2f}\")\n",
    "                      \n",
    "        "
   ]
  },
  {
   "cell_type": "code",
   "execution_count": null,
   "id": "3d4de21f-9e6e-429f-a9ad-ee43bf4b4d3e",
   "metadata": {},
   "outputs": [],
   "source": [
    "main()"
   ]
  }
 ],
 "metadata": {
  "kernelspec": {
   "display_name": "Python 3 (ipykernel)",
   "language": "python",
   "name": "python3"
  },
  "language_info": {
   "codemirror_mode": {
    "name": "ipython",
    "version": 3
   },
   "file_extension": ".py",
   "mimetype": "text/x-python",
   "name": "python",
   "nbconvert_exporter": "python",
   "pygments_lexer": "ipython3",
   "version": "3.8.10"
  }
 },
 "nbformat": 4,
 "nbformat_minor": 5
}
