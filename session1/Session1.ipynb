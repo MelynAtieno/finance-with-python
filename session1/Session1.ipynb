{
 "cells": [
  {
   "cell_type": "markdown",
   "id": "55497504-ec19-47c5-bad8-62aedc7695bf",
   "metadata": {},
   "source": [
    "Python Basics"
   ]
  },
  {
   "cell_type": "code",
   "execution_count": 3,
   "id": "394ae1c2-213a-4e46-83ae-6b77b97eeebe",
   "metadata": {},
   "outputs": [],
   "source": [
    "stock_price = 150.75\n",
    "shares = 10\n",
    "stock_name = \"AAPL\"\n",
    "is_profitable = True"
   ]
  },
  {
   "cell_type": "code",
   "execution_count": null,
   "id": "dea46bda-4f4b-4640-a279-0df8a20920dc",
   "metadata": {
    "editable": true,
    "slideshow": {
     "slide_type": ""
    },
    "tags": []
   },
   "outputs": [
    {
     "name": "stdout",
     "output_type": "stream",
     "text": [
      "stock price : 150.75 -> <class 'float'>\n",
      "share : 10 -> <class 'int'>\n",
      "stock name: AAPL -> <class 'str'>\n",
      "is_profitable: True -> <class 'bool'>\n"
     ]
    }
   ],
   "source": [
    "print(f\"stock price : {stock_price} -> {type(stock_price)}\")\n",
    "print(f\"share : {shares} -> {type(shares)}\")\n",
    "print(f\"stock name: {stock_name} -> {type(stock_name)}\")\n",
    "print(f\"is_profitable: {is_profitable} -> {type(is_profitable)}\")\n",
    "    \n"
   ]
  },
  {
   "cell_type": "code",
   "execution_count": null,
   "id": "0b544b86-176b-44ce-970a-95577621dece",
   "metadata": {},
   "outputs": [],
   "source": []
  }
 ],
 "metadata": {
  "kernelspec": {
   "display_name": "Python 3 (ipykernel)",
   "language": "python",
   "name": "python3"
  },
  "language_info": {
   "codemirror_mode": {
    "name": "ipython",
    "version": 3
   },
   "file_extension": ".py",
   "mimetype": "text/x-python",
   "name": "python",
   "nbconvert_exporter": "python",
   "pygments_lexer": "ipython3",
   "version": "3.8.10"
  }
 },
 "nbformat": 4,
 "nbformat_minor": 5
}
