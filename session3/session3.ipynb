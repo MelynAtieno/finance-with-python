{
 "cells": [
  {
   "cell_type": "code",
   "execution_count": null,
   "id": "459f1098-ef08-4acf-a8fd-845a22d10147",
   "metadata": {},
   "outputs": [],
   "source": [
    "import pandas as pd\n",
    "import mplfinance as mpf\n",
    "import numpy as np\n",
    "import matplotlib.pyplot as plt\n",
    "import plotly.graph_objects as go"
   ]
  },
  {
   "cell_type": "code",
   "execution_count": null,
   "id": "3d87ad45-5023-4d4c-8e97-883ead04239c",
   "metadata": {},
   "outputs": [],
   "source": [
    "def load_and_clean_data(file):\n",
    "    df=pd.read_csv(file, parse_dates=[\"Date\"])\n",
    "    for col in [\"Open\", \"Close\", \"High\", \"Low\"]"
   ]
  }
 ],
 "metadata": {
  "kernelspec": {
   "display_name": "Python 3 (ipykernel)",
   "language": "python",
   "name": "python3"
  },
  "language_info": {
   "codemirror_mode": {
    "name": "ipython",
    "version": 3
   },
   "file_extension": ".py",
   "mimetype": "text/x-python",
   "name": "python",
   "nbconvert_exporter": "python",
   "pygments_lexer": "ipython3",
   "version": "3.8.10"
  }
 },
 "nbformat": 4,
 "nbformat_minor": 5
}
